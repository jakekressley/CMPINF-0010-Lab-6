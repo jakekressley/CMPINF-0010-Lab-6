{
 "cells": [
  {
   "cell_type": "markdown",
   "metadata": {},
   "source": [
    "Our program will collect a user's age and return whether they are legally allowed to drink"
   ]
  },
  {
   "cell_type": "code",
   "execution_count": 3,
   "metadata": {},
   "outputs": [
    {
     "name": "stdin",
     "output_type": "stream",
     "text": [
      "Please enter your age:  13\n"
     ]
    },
    {
     "name": "stdout",
     "output_type": "stream",
     "text": [
      "You are not legally allowed to drink.\n"
     ]
    }
   ],
   "source": [
    "valid = False\n",
    "input_age = input(\"Please enter your age: \")\n",
    "\n",
    "while (valid == False):\n",
    "    try:\n",
    "        age = int(input_age)\n",
    "        if(age < 0):\n",
    "            print(\"You have not entered a valid age\")\n",
    "            input_age = input(\"Please enter your age: \")\n",
    "        else: \n",
    "            valid = True\n",
    "    except: \n",
    "        print(\"You have not entered a valid age\")\n",
    "        input_age = input(\"Please enter your age: \")\n",
    "if(age>=21):\n",
    "    print('You are legally allowed to drink.')\n",
    "else:\n",
    "    print('You are not legally allowed to drink.')\n",
    "        \n",
    "# just write something that prints if they are a valid age to drink\n"
   ]
  },
  {
   "cell_type": "code",
   "execution_count": null,
   "metadata": {},
   "outputs": [],
   "source": []
  }
 ],
 "metadata": {
  "kernelspec": {
   "display_name": "Python 3",
   "language": "python",
   "name": "python3"
  },
  "language_info": {
   "codemirror_mode": {
    "name": "ipython",
    "version": 3
   },
   "file_extension": ".py",
   "mimetype": "text/x-python",
   "name": "python",
   "nbconvert_exporter": "python",
   "pygments_lexer": "ipython3",
   "version": "3.8.3"
  }
 },
 "nbformat": 4,
 "nbformat_minor": 4
}
